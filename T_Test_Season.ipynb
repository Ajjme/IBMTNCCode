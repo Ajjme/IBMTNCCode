{
 "metadata": {
  "language_info": {
   "codemirror_mode": {
    "name": "ipython",
    "version": 3
   },
   "file_extension": ".py",
   "mimetype": "text/x-python",
   "name": "python",
   "nbconvert_exporter": "python",
   "pygments_lexer": "ipython3",
   "version": "3.8.3"
  },
  "orig_nbformat": 2,
  "kernelspec": {
   "name": "python383jvsc74a57bd029e077673aa6100be7c8b370e025ba2c4edade521fd6d7ba8ae66699423a5dab",
   "display_name": "Python 3.8.3 32-bit"
  },
  "metadata": {
   "interpreter": {
    "hash": "29e077673aa6100be7c8b370e025ba2c4edade521fd6d7ba8ae66699423a5dab"
   }
  }
 },
 "nbformat": 4,
 "nbformat_minor": 2,
 "cells": [
  {
   "cell_type": "code",
   "execution_count": 12,
   "metadata": {},
   "outputs": [],
   "source": [
    "import pandas as pd\n",
    "import matplotlib as plt\n",
    "import numpy as np\n",
    "from scipy import stats"
   ]
  },
  {
   "cell_type": "code",
   "execution_count": 30,
   "metadata": {},
   "outputs": [],
   "source": [
    "dfECMWF_A = pd.read_csv('ECMWF_A.csv')"
   ]
  },
  {
   "cell_type": "code",
   "execution_count": 31,
   "metadata": {},
   "outputs": [
    {
     "output_type": "execute_result",
     "data": {
      "text/plain": [
       "       Unnamed: 0  Hours since 1900-01-01  Rainfall Flux (kg m-2 s-1)  \\\n",
       "0               3                  701256                    0.000003   \n",
       "1              19                  701257                    0.000002   \n",
       "2              35                  701258                    0.000000   \n",
       "3              51                  701259                    0.000000   \n",
       "4              67                  701260                    0.000000   \n",
       "...           ...                     ...                         ...   \n",
       "52603       11827                  753859                    0.000000   \n",
       "52604       11843                  753860                    0.000000   \n",
       "52605       11859                  753861                    0.000000   \n",
       "52606       11875                  753862                    0.000000   \n",
       "52607       11891                  753863                    0.000000   \n",
       "\n",
       "           Longitude      Latitude  rainflux_mm_hour                 date  \n",
       "0      36.5 - 37.0 E  -0.5 - 0.0 N          0.009609  1980-01-01 00:00:00  \n",
       "1      36.5 - 37.0 E  -0.5 - 0.0 N          0.008836  1980-01-01 01:00:00  \n",
       "2      36.5 - 37.0 E  -0.5 - 0.0 N          0.000000  1980-01-01 02:00:00  \n",
       "3      36.5 - 37.0 E  -0.5 - 0.0 N          0.000000  1980-01-01 03:00:00  \n",
       "4      36.5 - 37.0 E  -0.5 - 0.0 N          0.000000  1980-01-01 04:00:00  \n",
       "...              ...           ...               ...                  ...  \n",
       "52603  36.5 - 37.0 E  -0.5 - 0.0 N          0.000000  1985-12-31 19:00:00  \n",
       "52604  36.5 - 37.0 E  -0.5 - 0.0 N          0.000000  1985-12-31 20:00:00  \n",
       "52605  36.5 - 37.0 E  -0.5 - 0.0 N          0.000000  1985-12-31 21:00:00  \n",
       "52606  36.5 - 37.0 E  -0.5 - 0.0 N          0.000000  1985-12-31 22:00:00  \n",
       "52607  36.5 - 37.0 E  -0.5 - 0.0 N          0.000000  1985-12-31 23:00:00  \n",
       "\n",
       "[52608 rows x 7 columns]"
      ],
      "text/html": "<div>\n<style scoped>\n    .dataframe tbody tr th:only-of-type {\n        vertical-align: middle;\n    }\n\n    .dataframe tbody tr th {\n        vertical-align: top;\n    }\n\n    .dataframe thead th {\n        text-align: right;\n    }\n</style>\n<table border=\"1\" class=\"dataframe\">\n  <thead>\n    <tr style=\"text-align: right;\">\n      <th></th>\n      <th>Unnamed: 0</th>\n      <th>Hours since 1900-01-01</th>\n      <th>Rainfall Flux (kg m-2 s-1)</th>\n      <th>Longitude</th>\n      <th>Latitude</th>\n      <th>rainflux_mm_hour</th>\n      <th>date</th>\n    </tr>\n  </thead>\n  <tbody>\n    <tr>\n      <th>0</th>\n      <td>3</td>\n      <td>701256</td>\n      <td>0.000003</td>\n      <td>36.5 - 37.0 E</td>\n      <td>-0.5 - 0.0 N</td>\n      <td>0.009609</td>\n      <td>1980-01-01 00:00:00</td>\n    </tr>\n    <tr>\n      <th>1</th>\n      <td>19</td>\n      <td>701257</td>\n      <td>0.000002</td>\n      <td>36.5 - 37.0 E</td>\n      <td>-0.5 - 0.0 N</td>\n      <td>0.008836</td>\n      <td>1980-01-01 01:00:00</td>\n    </tr>\n    <tr>\n      <th>2</th>\n      <td>35</td>\n      <td>701258</td>\n      <td>0.000000</td>\n      <td>36.5 - 37.0 E</td>\n      <td>-0.5 - 0.0 N</td>\n      <td>0.000000</td>\n      <td>1980-01-01 02:00:00</td>\n    </tr>\n    <tr>\n      <th>3</th>\n      <td>51</td>\n      <td>701259</td>\n      <td>0.000000</td>\n      <td>36.5 - 37.0 E</td>\n      <td>-0.5 - 0.0 N</td>\n      <td>0.000000</td>\n      <td>1980-01-01 03:00:00</td>\n    </tr>\n    <tr>\n      <th>4</th>\n      <td>67</td>\n      <td>701260</td>\n      <td>0.000000</td>\n      <td>36.5 - 37.0 E</td>\n      <td>-0.5 - 0.0 N</td>\n      <td>0.000000</td>\n      <td>1980-01-01 04:00:00</td>\n    </tr>\n    <tr>\n      <th>...</th>\n      <td>...</td>\n      <td>...</td>\n      <td>...</td>\n      <td>...</td>\n      <td>...</td>\n      <td>...</td>\n      <td>...</td>\n    </tr>\n    <tr>\n      <th>52603</th>\n      <td>11827</td>\n      <td>753859</td>\n      <td>0.000000</td>\n      <td>36.5 - 37.0 E</td>\n      <td>-0.5 - 0.0 N</td>\n      <td>0.000000</td>\n      <td>1985-12-31 19:00:00</td>\n    </tr>\n    <tr>\n      <th>52604</th>\n      <td>11843</td>\n      <td>753860</td>\n      <td>0.000000</td>\n      <td>36.5 - 37.0 E</td>\n      <td>-0.5 - 0.0 N</td>\n      <td>0.000000</td>\n      <td>1985-12-31 20:00:00</td>\n    </tr>\n    <tr>\n      <th>52605</th>\n      <td>11859</td>\n      <td>753861</td>\n      <td>0.000000</td>\n      <td>36.5 - 37.0 E</td>\n      <td>-0.5 - 0.0 N</td>\n      <td>0.000000</td>\n      <td>1985-12-31 21:00:00</td>\n    </tr>\n    <tr>\n      <th>52606</th>\n      <td>11875</td>\n      <td>753862</td>\n      <td>0.000000</td>\n      <td>36.5 - 37.0 E</td>\n      <td>-0.5 - 0.0 N</td>\n      <td>0.000000</td>\n      <td>1985-12-31 22:00:00</td>\n    </tr>\n    <tr>\n      <th>52607</th>\n      <td>11891</td>\n      <td>753863</td>\n      <td>0.000000</td>\n      <td>36.5 - 37.0 E</td>\n      <td>-0.5 - 0.0 N</td>\n      <td>0.000000</td>\n      <td>1985-12-31 23:00:00</td>\n    </tr>\n  </tbody>\n</table>\n<p>52608 rows × 7 columns</p>\n</div>"
     },
     "metadata": {},
     "execution_count": 31
    }
   ],
   "source": [
    "dfECMWF_A"
   ]
  },
  {
   "cell_type": "code",
   "execution_count": 32,
   "metadata": {},
   "outputs": [
    {
     "output_type": "execute_result",
     "data": {
      "text/plain": [
       "       rainflux_mm_hour                 date\n",
       "0              0.009609  1980-01-01 00:00:00\n",
       "1              0.008836  1980-01-01 01:00:00\n",
       "2              0.000000  1980-01-01 02:00:00\n",
       "3              0.000000  1980-01-01 03:00:00\n",
       "4              0.000000  1980-01-01 04:00:00\n",
       "...                 ...                  ...\n",
       "52603          0.000000  1985-12-31 19:00:00\n",
       "52604          0.000000  1985-12-31 20:00:00\n",
       "52605          0.000000  1985-12-31 21:00:00\n",
       "52606          0.000000  1985-12-31 22:00:00\n",
       "52607          0.000000  1985-12-31 23:00:00\n",
       "\n",
       "[52608 rows x 2 columns]"
      ],
      "text/html": "<div>\n<style scoped>\n    .dataframe tbody tr th:only-of-type {\n        vertical-align: middle;\n    }\n\n    .dataframe tbody tr th {\n        vertical-align: top;\n    }\n\n    .dataframe thead th {\n        text-align: right;\n    }\n</style>\n<table border=\"1\" class=\"dataframe\">\n  <thead>\n    <tr style=\"text-align: right;\">\n      <th></th>\n      <th>rainflux_mm_hour</th>\n      <th>date</th>\n    </tr>\n  </thead>\n  <tbody>\n    <tr>\n      <th>0</th>\n      <td>0.009609</td>\n      <td>1980-01-01 00:00:00</td>\n    </tr>\n    <tr>\n      <th>1</th>\n      <td>0.008836</td>\n      <td>1980-01-01 01:00:00</td>\n    </tr>\n    <tr>\n      <th>2</th>\n      <td>0.000000</td>\n      <td>1980-01-01 02:00:00</td>\n    </tr>\n    <tr>\n      <th>3</th>\n      <td>0.000000</td>\n      <td>1980-01-01 03:00:00</td>\n    </tr>\n    <tr>\n      <th>4</th>\n      <td>0.000000</td>\n      <td>1980-01-01 04:00:00</td>\n    </tr>\n    <tr>\n      <th>...</th>\n      <td>...</td>\n      <td>...</td>\n    </tr>\n    <tr>\n      <th>52603</th>\n      <td>0.000000</td>\n      <td>1985-12-31 19:00:00</td>\n    </tr>\n    <tr>\n      <th>52604</th>\n      <td>0.000000</td>\n      <td>1985-12-31 20:00:00</td>\n    </tr>\n    <tr>\n      <th>52605</th>\n      <td>0.000000</td>\n      <td>1985-12-31 21:00:00</td>\n    </tr>\n    <tr>\n      <th>52606</th>\n      <td>0.000000</td>\n      <td>1985-12-31 22:00:00</td>\n    </tr>\n    <tr>\n      <th>52607</th>\n      <td>0.000000</td>\n      <td>1985-12-31 23:00:00</td>\n    </tr>\n  </tbody>\n</table>\n<p>52608 rows × 2 columns</p>\n</div>"
     },
     "metadata": {},
     "execution_count": 32
    }
   ],
   "source": [
    "dfECMWF_A.drop(columns=['Hours since 1900-01-01', 'Rainfall Flux (kg m-2 s-1)', 'Longitude', 'Latitude', 'Unnamed: 0'])"
   ]
  },
  {
   "cell_type": "code",
   "execution_count": 23,
   "metadata": {},
   "outputs": [],
   "source": [
    "dfTWC_A = pd.read_csv('TWC_Block_A.csv')"
   ]
  },
  {
   "cell_type": "code",
   "execution_count": 24,
   "metadata": {},
   "outputs": [
    {
     "output_type": "execute_result",
     "data": {
      "text/plain": [
       "           observationTimeUtcIso  precipitationRate\n",
       "0      2015-02-01 00:00:00+00:00            0.00000\n",
       "1      2015-02-01 01:00:00+00:00            0.00000\n",
       "2      2015-02-01 02:00:00+00:00            0.00000\n",
       "3      2015-02-01 03:00:00+00:00            0.00000\n",
       "4      2015-02-01 04:00:00+00:00            0.00000\n",
       "...                          ...                ...\n",
       "44720  2020-01-31 20:00:00+00:00            0.35950\n",
       "44721  2020-01-31 21:00:00+00:00            0.18025\n",
       "44722  2020-01-31 22:00:00+00:00            0.16400\n",
       "44723  2020-01-31 23:00:00+00:00            0.19175\n",
       "44724  2020-02-01 00:00:00+00:00            0.31400\n",
       "\n",
       "[44725 rows x 2 columns]"
      ],
      "text/html": "<div>\n<style scoped>\n    .dataframe tbody tr th:only-of-type {\n        vertical-align: middle;\n    }\n\n    .dataframe tbody tr th {\n        vertical-align: top;\n    }\n\n    .dataframe thead th {\n        text-align: right;\n    }\n</style>\n<table border=\"1\" class=\"dataframe\">\n  <thead>\n    <tr style=\"text-align: right;\">\n      <th></th>\n      <th>observationTimeUtcIso</th>\n      <th>precipitationRate</th>\n    </tr>\n  </thead>\n  <tbody>\n    <tr>\n      <th>0</th>\n      <td>2015-02-01 00:00:00+00:00</td>\n      <td>0.00000</td>\n    </tr>\n    <tr>\n      <th>1</th>\n      <td>2015-02-01 01:00:00+00:00</td>\n      <td>0.00000</td>\n    </tr>\n    <tr>\n      <th>2</th>\n      <td>2015-02-01 02:00:00+00:00</td>\n      <td>0.00000</td>\n    </tr>\n    <tr>\n      <th>3</th>\n      <td>2015-02-01 03:00:00+00:00</td>\n      <td>0.00000</td>\n    </tr>\n    <tr>\n      <th>4</th>\n      <td>2015-02-01 04:00:00+00:00</td>\n      <td>0.00000</td>\n    </tr>\n    <tr>\n      <th>...</th>\n      <td>...</td>\n      <td>...</td>\n    </tr>\n    <tr>\n      <th>44720</th>\n      <td>2020-01-31 20:00:00+00:00</td>\n      <td>0.35950</td>\n    </tr>\n    <tr>\n      <th>44721</th>\n      <td>2020-01-31 21:00:00+00:00</td>\n      <td>0.18025</td>\n    </tr>\n    <tr>\n      <th>44722</th>\n      <td>2020-01-31 22:00:00+00:00</td>\n      <td>0.16400</td>\n    </tr>\n    <tr>\n      <th>44723</th>\n      <td>2020-01-31 23:00:00+00:00</td>\n      <td>0.19175</td>\n    </tr>\n    <tr>\n      <th>44724</th>\n      <td>2020-02-01 00:00:00+00:00</td>\n      <td>0.31400</td>\n    </tr>\n  </tbody>\n</table>\n<p>44725 rows × 2 columns</p>\n</div>"
     },
     "metadata": {},
     "execution_count": 24
    }
   ],
   "source": [
    "dfTWC_A"
   ]
  },
  {
   "cell_type": "code",
   "execution_count": null,
   "metadata": {},
   "outputs": [],
   "source": [
    "#filter for wet season"
   ]
  },
  {
   "cell_type": "code",
   "execution_count": 40,
   "metadata": {},
   "outputs": [
    {
     "output_type": "stream",
     "name": "stdout",
     "text": [
      "t = -6.818187102741877\np = 1.9999999999907303\nt = -6.584010222461941\np = 4.602420345613025e-11\n"
     ]
    }
   ],
   "source": [
    "\n",
    "a = dfECMWF_A['rainflux_mm_hour']\n",
    "b= dfTWC_A['precipitationRate']\n",
    "#Sample Size\n",
    "N = 52000\n",
    "## Calculate the Standard Deviation\n",
    "#Calculate the variance to get the standard deviation\n",
    "\n",
    "#For unbiased max likelihood estimate we have to divide the var by N-1, and therefore the parameter ddof = 1\n",
    "var_a = dfECMWF_A['rainflux_mm_hour'].var(ddof=1)\n",
    "var_b = dfTWC_A['precipitationRate'].var(ddof=1)\n",
    "\n",
    "#std deviation\n",
    "s = np.sqrt((var_a + var_b)/2)\n",
    "s\n",
    "\n",
    "\n",
    "\n",
    "## Calculate the t-statistics\n",
    "t = (a.mean() - b.mean())/(s*np.sqrt(2/N))\n",
    "\n",
    "\n",
    "\n",
    "## Compare with the critical t-value\n",
    "#Degrees of freedom\n",
    "df = 2*N - 2\n",
    "\n",
    "#p-value after comparison with the t \n",
    "p = 1 - stats.t.cdf(t,df=df)\n",
    "\n",
    "\n",
    "print(\"t = \" + str(t))\n",
    "print(\"p = \" + str(2*p))\n",
    "### You can see that after comparing the t statistic with the critical t value (computed internally) we get a good p value of 0.0005 and thus we reject the null hypothesis and thus it proves that the mean of the two distributions are different and statistically significant.\n",
    "\n",
    "\n",
    "## Cross Checking with the internal scipy function\n",
    "t2, p2 = stats.ttest_ind(a,b)\n",
    "print(\"t = \" + str(t2))\n",
    "print(\"p = \" + str(p2))\n"
   ]
  },
  {
   "cell_type": "code",
   "execution_count": 22,
   "metadata": {},
   "outputs": [
    {
     "output_type": "execute_result",
     "data": {
      "text/plain": [
       "precipitationRate   NaN\n",
       "rainflux_mm_hour    NaN\n",
       "dtype: float64"
      ]
     },
     "metadata": {},
     "execution_count": 22
    }
   ],
   "source": [
    "t"
   ]
  },
  {
   "cell_type": "code",
   "execution_count": 34,
   "metadata": {},
   "outputs": [],
   "source": [
    "dfECMWF_Awet = pd.read_csv('ECMWF_wetA.csv')"
   ]
  },
  {
   "cell_type": "code",
   "execution_count": 36,
   "metadata": {},
   "outputs": [],
   "source": [
    "dfTWC_Awet = pd.read_csv('TWC_wetA.csv')"
   ]
  },
  {
   "cell_type": "code",
   "execution_count": 37,
   "metadata": {},
   "outputs": [
    {
     "output_type": "stream",
     "name": "stdout",
     "text": [
      "t = -15.924721273607078\np = 2.0\nt = -5.680281849896426\np = 1.3599550581834146e-08\n"
     ]
    }
   ],
   "source": [
    "a = dfECMWF_Awet['rainflux_mm_hour']\n",
    "b= dfTWC_Awet['precipitationRate']\n",
    "#Sample Size\n",
    "N = 44724\n",
    "## Calculate the Standard Deviation\n",
    "#Calculate the variance to get the standard deviation\n",
    "\n",
    "#For unbiased max likelihood estimate we have to divide the var by N-1, and therefore the parameter ddof = 1\n",
    "var_a = dfECMWF_A['rainflux_mm_hour'].var(ddof=1)\n",
    "var_b = dfTWC_A['precipitationRate'].var(ddof=1)\n",
    "\n",
    "#std deviation\n",
    "s = np.sqrt((var_a + var_b)/2)\n",
    "s\n",
    "\n",
    "\n",
    "\n",
    "## Calculate the t-statistics\n",
    "t = (a.mean() - b.mean())/(s*np.sqrt(2/N))\n",
    "\n",
    "\n",
    "\n",
    "## Compare with the critical t-value\n",
    "#Degrees of freedom\n",
    "df = 2*N - 2\n",
    "\n",
    "#p-value after comparison with the t \n",
    "p = 1 - stats.t.cdf(t,df=df)\n",
    "\n",
    "\n",
    "print(\"t = \" + str(t))\n",
    "print(\"p = \" + str(2*p))\n",
    "### You can see that after comparing the t statistic with the critical t value (computed internally) we get a good p value of 0.0005 and thus we reject the null hypothesis and thus it proves that the mean of the two distributions are different and statistically significant.\n",
    "## Cross Checking with the internal scipy function\n",
    "t2, p2 = stats.ttest_ind(a,b)\n",
    "print(\"t = \" + str(t2))\n",
    "print(\"p = \" + str(p2))\n"
   ]
  },
  {
   "cell_type": "code",
   "execution_count": 49,
   "metadata": {},
   "outputs": [
    {
     "output_type": "stream",
     "name": "stdout",
     "text": [
      "Ttest_indResult(statistic=5.680281849896426, pvalue=1.3599550581834146e-08)\n"
     ]
    }
   ],
   "source": [
    "from scipy import stats\n",
    "rvs1 = dfTWC_Awet['precipitationRate']\n",
    "rvs2 = dfECMWF_Awet['rainflux_mm_hour']\n",
    "print(stats.ttest_ind(rvs1,rvs2))"
   ]
  },
  {
   "cell_type": "code",
   "execution_count": null,
   "metadata": {},
   "outputs": [],
   "source": [
    "''' we can say that the amount of percipitation in these five years is different'''"
   ]
  },
  {
   "cell_type": "code",
   "execution_count": 46,
   "metadata": {},
   "outputs": [
    {
     "output_type": "execute_result",
     "data": {
      "text/plain": [
       "'\\nWe can use this test, if we observe two independent samples from the same or different population, e.g. exam scores of boys and girls or of two ethnic groups. The test measures whether the average (expected) value differs significantly across samples. If we observe a large p-value, for example larger than 0.05 or 0.1, then we cannot reject the null hypothesis of identical average scores. If the p-value is smaller than the threshold, e.g. 1%, 5% or 10%, then we reject the null hypothesis of equal averages.\\n'"
      ]
     },
     "metadata": {},
     "execution_count": 46
    }
   ],
   "source": [
    "'''\n",
    "We can use this test, if we observe two independent samples from the same or different population, e.g. exam scores of boys and girls or of two ethnic groups. The test measures whether the average (expected) value differs significantly across samples. If we observe a large p-value, for example larger than 0.05 or 0.1, then we cannot reject the null hypothesis of identical average scores. If the p-value is smaller than the threshold, e.g. 1%, 5% or 10%, then we reject the null hypothesis of equal averages.\n",
    "'''"
   ]
  },
  {
   "cell_type": "code",
   "execution_count": 48,
   "metadata": {},
   "outputs": [
    {
     "output_type": "execute_result",
     "data": {
      "text/plain": [
       "numpy.ndarray"
      ]
     },
     "metadata": {},
     "execution_count": 48
    }
   ],
   "source": [
    "rvs3 = stats.norm.rvs(loc=5, scale=20, size=500)\n",
    "type(rvs3)"
   ]
  },
  {
   "cell_type": "code",
   "execution_count": 50,
   "metadata": {},
   "outputs": [
    {
     "output_type": "error",
     "ename": "FileNotFoundError",
     "evalue": "[Errno 2] No such file or directory: 'TWC_Block_A.csv'",
     "traceback": [
      "\u001b[1;31m---------------------------------------------------------------------------\u001b[0m",
      "\u001b[1;31mFileNotFoundError\u001b[0m                         Traceback (most recent call last)",
      "\u001b[1;32m<ipython-input-50-72a521e260a6>\u001b[0m in \u001b[0;36m<module>\u001b[1;34m\u001b[0m\n\u001b[1;32m----> 1\u001b[1;33m \u001b[0mdfTWC_A\u001b[0m \u001b[1;33m=\u001b[0m \u001b[0mpd\u001b[0m\u001b[1;33m.\u001b[0m\u001b[0mread_csv\u001b[0m\u001b[1;33m(\u001b[0m\u001b[1;34m'TWC_Block_A.csv'\u001b[0m\u001b[1;33m)\u001b[0m\u001b[1;33m\u001b[0m\u001b[1;33m\u001b[0m\u001b[0m\n\u001b[0m\u001b[0;32m      2\u001b[0m \u001b[0mdfTWC_A\u001b[0m\u001b[1;33m[\u001b[0m\u001b[1;34m'observationTimeUtcIso'\u001b[0m\u001b[1;33m]\u001b[0m \u001b[1;33m=\u001b[0m \u001b[0mpd\u001b[0m\u001b[1;33m.\u001b[0m\u001b[0mto_datetime\u001b[0m\u001b[1;33m(\u001b[0m\u001b[0mdfTWC_A\u001b[0m\u001b[1;33m[\u001b[0m\u001b[1;34m'observationTimeUtcIso'\u001b[0m\u001b[1;33m]\u001b[0m\u001b[1;33m)\u001b[0m\u001b[1;33m\u001b[0m\u001b[1;33m\u001b[0m\u001b[0m\n",
      "\u001b[1;32m~\\AppData\\Local\\Programs\\Python\\Python38-32\\lib\\site-packages\\pandas\\io\\parsers.py\u001b[0m in \u001b[0;36mread_csv\u001b[1;34m(filepath_or_buffer, sep, delimiter, header, names, index_col, usecols, squeeze, prefix, mangle_dupe_cols, dtype, engine, converters, true_values, false_values, skipinitialspace, skiprows, skipfooter, nrows, na_values, keep_default_na, na_filter, verbose, skip_blank_lines, parse_dates, infer_datetime_format, keep_date_col, date_parser, dayfirst, cache_dates, iterator, chunksize, compression, thousands, decimal, lineterminator, quotechar, quoting, doublequote, escapechar, comment, encoding, dialect, error_bad_lines, warn_bad_lines, delim_whitespace, low_memory, memory_map, float_precision, storage_options)\u001b[0m\n\u001b[0;32m    608\u001b[0m     \u001b[0mkwds\u001b[0m\u001b[1;33m.\u001b[0m\u001b[0mupdate\u001b[0m\u001b[1;33m(\u001b[0m\u001b[0mkwds_defaults\u001b[0m\u001b[1;33m)\u001b[0m\u001b[1;33m\u001b[0m\u001b[1;33m\u001b[0m\u001b[0m\n\u001b[0;32m    609\u001b[0m \u001b[1;33m\u001b[0m\u001b[0m\n\u001b[1;32m--> 610\u001b[1;33m     \u001b[1;32mreturn\u001b[0m \u001b[0m_read\u001b[0m\u001b[1;33m(\u001b[0m\u001b[0mfilepath_or_buffer\u001b[0m\u001b[1;33m,\u001b[0m \u001b[0mkwds\u001b[0m\u001b[1;33m)\u001b[0m\u001b[1;33m\u001b[0m\u001b[1;33m\u001b[0m\u001b[0m\n\u001b[0m\u001b[0;32m    611\u001b[0m \u001b[1;33m\u001b[0m\u001b[0m\n\u001b[0;32m    612\u001b[0m \u001b[1;33m\u001b[0m\u001b[0m\n",
      "\u001b[1;32m~\\AppData\\Local\\Programs\\Python\\Python38-32\\lib\\site-packages\\pandas\\io\\parsers.py\u001b[0m in \u001b[0;36m_read\u001b[1;34m(filepath_or_buffer, kwds)\u001b[0m\n\u001b[0;32m    460\u001b[0m \u001b[1;33m\u001b[0m\u001b[0m\n\u001b[0;32m    461\u001b[0m     \u001b[1;31m# Create the parser.\u001b[0m\u001b[1;33m\u001b[0m\u001b[1;33m\u001b[0m\u001b[1;33m\u001b[0m\u001b[0m\n\u001b[1;32m--> 462\u001b[1;33m     \u001b[0mparser\u001b[0m \u001b[1;33m=\u001b[0m \u001b[0mTextFileReader\u001b[0m\u001b[1;33m(\u001b[0m\u001b[0mfilepath_or_buffer\u001b[0m\u001b[1;33m,\u001b[0m \u001b[1;33m**\u001b[0m\u001b[0mkwds\u001b[0m\u001b[1;33m)\u001b[0m\u001b[1;33m\u001b[0m\u001b[1;33m\u001b[0m\u001b[0m\n\u001b[0m\u001b[0;32m    463\u001b[0m \u001b[1;33m\u001b[0m\u001b[0m\n\u001b[0;32m    464\u001b[0m     \u001b[1;32mif\u001b[0m \u001b[0mchunksize\u001b[0m \u001b[1;32mor\u001b[0m \u001b[0miterator\u001b[0m\u001b[1;33m:\u001b[0m\u001b[1;33m\u001b[0m\u001b[1;33m\u001b[0m\u001b[0m\n",
      "\u001b[1;32m~\\AppData\\Local\\Programs\\Python\\Python38-32\\lib\\site-packages\\pandas\\io\\parsers.py\u001b[0m in \u001b[0;36m__init__\u001b[1;34m(self, f, engine, **kwds)\u001b[0m\n\u001b[0;32m    817\u001b[0m             \u001b[0mself\u001b[0m\u001b[1;33m.\u001b[0m\u001b[0moptions\u001b[0m\u001b[1;33m[\u001b[0m\u001b[1;34m\"has_index_names\"\u001b[0m\u001b[1;33m]\u001b[0m \u001b[1;33m=\u001b[0m \u001b[0mkwds\u001b[0m\u001b[1;33m[\u001b[0m\u001b[1;34m\"has_index_names\"\u001b[0m\u001b[1;33m]\u001b[0m\u001b[1;33m\u001b[0m\u001b[1;33m\u001b[0m\u001b[0m\n\u001b[0;32m    818\u001b[0m \u001b[1;33m\u001b[0m\u001b[0m\n\u001b[1;32m--> 819\u001b[1;33m         \u001b[0mself\u001b[0m\u001b[1;33m.\u001b[0m\u001b[0m_engine\u001b[0m \u001b[1;33m=\u001b[0m \u001b[0mself\u001b[0m\u001b[1;33m.\u001b[0m\u001b[0m_make_engine\u001b[0m\u001b[1;33m(\u001b[0m\u001b[0mself\u001b[0m\u001b[1;33m.\u001b[0m\u001b[0mengine\u001b[0m\u001b[1;33m)\u001b[0m\u001b[1;33m\u001b[0m\u001b[1;33m\u001b[0m\u001b[0m\n\u001b[0m\u001b[0;32m    820\u001b[0m \u001b[1;33m\u001b[0m\u001b[0m\n\u001b[0;32m    821\u001b[0m     \u001b[1;32mdef\u001b[0m \u001b[0mclose\u001b[0m\u001b[1;33m(\u001b[0m\u001b[0mself\u001b[0m\u001b[1;33m)\u001b[0m\u001b[1;33m:\u001b[0m\u001b[1;33m\u001b[0m\u001b[1;33m\u001b[0m\u001b[0m\n",
      "\u001b[1;32m~\\AppData\\Local\\Programs\\Python\\Python38-32\\lib\\site-packages\\pandas\\io\\parsers.py\u001b[0m in \u001b[0;36m_make_engine\u001b[1;34m(self, engine)\u001b[0m\n\u001b[0;32m   1048\u001b[0m             )\n\u001b[0;32m   1049\u001b[0m         \u001b[1;31m# error: Too many arguments for \"ParserBase\"\u001b[0m\u001b[1;33m\u001b[0m\u001b[1;33m\u001b[0m\u001b[1;33m\u001b[0m\u001b[0m\n\u001b[1;32m-> 1050\u001b[1;33m         \u001b[1;32mreturn\u001b[0m \u001b[0mmapping\u001b[0m\u001b[1;33m[\u001b[0m\u001b[0mengine\u001b[0m\u001b[1;33m]\u001b[0m\u001b[1;33m(\u001b[0m\u001b[0mself\u001b[0m\u001b[1;33m.\u001b[0m\u001b[0mf\u001b[0m\u001b[1;33m,\u001b[0m \u001b[1;33m**\u001b[0m\u001b[0mself\u001b[0m\u001b[1;33m.\u001b[0m\u001b[0moptions\u001b[0m\u001b[1;33m)\u001b[0m  \u001b[1;31m# type: ignore[call-arg]\u001b[0m\u001b[1;33m\u001b[0m\u001b[1;33m\u001b[0m\u001b[0m\n\u001b[0m\u001b[0;32m   1051\u001b[0m \u001b[1;33m\u001b[0m\u001b[0m\n\u001b[0;32m   1052\u001b[0m     \u001b[1;32mdef\u001b[0m \u001b[0m_failover_to_python\u001b[0m\u001b[1;33m(\u001b[0m\u001b[0mself\u001b[0m\u001b[1;33m)\u001b[0m\u001b[1;33m:\u001b[0m\u001b[1;33m\u001b[0m\u001b[1;33m\u001b[0m\u001b[0m\n",
      "\u001b[1;32m~\\AppData\\Local\\Programs\\Python\\Python38-32\\lib\\site-packages\\pandas\\io\\parsers.py\u001b[0m in \u001b[0;36m__init__\u001b[1;34m(self, src, **kwds)\u001b[0m\n\u001b[0;32m   1865\u001b[0m \u001b[1;33m\u001b[0m\u001b[0m\n\u001b[0;32m   1866\u001b[0m         \u001b[1;31m# open handles\u001b[0m\u001b[1;33m\u001b[0m\u001b[1;33m\u001b[0m\u001b[1;33m\u001b[0m\u001b[0m\n\u001b[1;32m-> 1867\u001b[1;33m         \u001b[0mself\u001b[0m\u001b[1;33m.\u001b[0m\u001b[0m_open_handles\u001b[0m\u001b[1;33m(\u001b[0m\u001b[0msrc\u001b[0m\u001b[1;33m,\u001b[0m \u001b[0mkwds\u001b[0m\u001b[1;33m)\u001b[0m\u001b[1;33m\u001b[0m\u001b[1;33m\u001b[0m\u001b[0m\n\u001b[0m\u001b[0;32m   1868\u001b[0m         \u001b[1;32massert\u001b[0m \u001b[0mself\u001b[0m\u001b[1;33m.\u001b[0m\u001b[0mhandles\u001b[0m \u001b[1;32mis\u001b[0m \u001b[1;32mnot\u001b[0m \u001b[1;32mNone\u001b[0m\u001b[1;33m\u001b[0m\u001b[1;33m\u001b[0m\u001b[0m\n\u001b[0;32m   1869\u001b[0m         \u001b[1;32mfor\u001b[0m \u001b[0mkey\u001b[0m \u001b[1;32min\u001b[0m \u001b[1;33m(\u001b[0m\u001b[1;34m\"storage_options\"\u001b[0m\u001b[1;33m,\u001b[0m \u001b[1;34m\"encoding\"\u001b[0m\u001b[1;33m,\u001b[0m \u001b[1;34m\"memory_map\"\u001b[0m\u001b[1;33m,\u001b[0m \u001b[1;34m\"compression\"\u001b[0m\u001b[1;33m)\u001b[0m\u001b[1;33m:\u001b[0m\u001b[1;33m\u001b[0m\u001b[1;33m\u001b[0m\u001b[0m\n",
      "\u001b[1;32m~\\AppData\\Local\\Programs\\Python\\Python38-32\\lib\\site-packages\\pandas\\io\\parsers.py\u001b[0m in \u001b[0;36m_open_handles\u001b[1;34m(self, src, kwds)\u001b[0m\n\u001b[0;32m   1360\u001b[0m         \u001b[0mLet\u001b[0m \u001b[0mthe\u001b[0m \u001b[0mreaders\u001b[0m \u001b[0mopen\u001b[0m \u001b[0mIOHanldes\u001b[0m \u001b[0mafter\u001b[0m \u001b[0mthey\u001b[0m \u001b[0mare\u001b[0m \u001b[0mdone\u001b[0m \u001b[1;32mwith\u001b[0m \u001b[0mtheir\u001b[0m \u001b[0mpotential\u001b[0m \u001b[0mraises\u001b[0m\u001b[1;33m.\u001b[0m\u001b[1;33m\u001b[0m\u001b[1;33m\u001b[0m\u001b[0m\n\u001b[0;32m   1361\u001b[0m         \"\"\"\n\u001b[1;32m-> 1362\u001b[1;33m         self.handles = get_handle(\n\u001b[0m\u001b[0;32m   1363\u001b[0m             \u001b[0msrc\u001b[0m\u001b[1;33m,\u001b[0m\u001b[1;33m\u001b[0m\u001b[1;33m\u001b[0m\u001b[0m\n\u001b[0;32m   1364\u001b[0m             \u001b[1;34m\"r\"\u001b[0m\u001b[1;33m,\u001b[0m\u001b[1;33m\u001b[0m\u001b[1;33m\u001b[0m\u001b[0m\n",
      "\u001b[1;32m~\\AppData\\Local\\Programs\\Python\\Python38-32\\lib\\site-packages\\pandas\\io\\common.py\u001b[0m in \u001b[0;36mget_handle\u001b[1;34m(path_or_buf, mode, encoding, compression, memory_map, is_text, errors, storage_options)\u001b[0m\n\u001b[0;32m    640\u001b[0m                 \u001b[0merrors\u001b[0m \u001b[1;33m=\u001b[0m \u001b[1;34m\"replace\"\u001b[0m\u001b[1;33m\u001b[0m\u001b[1;33m\u001b[0m\u001b[0m\n\u001b[0;32m    641\u001b[0m             \u001b[1;31m# Encoding\u001b[0m\u001b[1;33m\u001b[0m\u001b[1;33m\u001b[0m\u001b[1;33m\u001b[0m\u001b[0m\n\u001b[1;32m--> 642\u001b[1;33m             handle = open(\n\u001b[0m\u001b[0;32m    643\u001b[0m                 \u001b[0mhandle\u001b[0m\u001b[1;33m,\u001b[0m\u001b[1;33m\u001b[0m\u001b[1;33m\u001b[0m\u001b[0m\n\u001b[0;32m    644\u001b[0m                 \u001b[0mioargs\u001b[0m\u001b[1;33m.\u001b[0m\u001b[0mmode\u001b[0m\u001b[1;33m,\u001b[0m\u001b[1;33m\u001b[0m\u001b[1;33m\u001b[0m\u001b[0m\n",
      "\u001b[1;31mFileNotFoundError\u001b[0m: [Errno 2] No such file or directory: 'TWC_Block_A.csv'"
     ]
    }
   ],
   "source": [
    "dfTWC_A = pd.read_csv('TWC_Block_A.csv')\n",
    "dfTWC_A['observationTimeUtcIso'] = pd.to_datetime(dfTWC_A['observationTimeUtcIso'])"
   ]
  },
  {
   "cell_type": "code",
   "execution_count": null,
   "metadata": {},
   "outputs": [],
   "source": [
    "dfEA3 = dfTWC_A[dfTWC_A['observationTimeUtcIso'].dt.month == 3]\n",
    "dfEA4 = dfTWC_A[dfTWC_A['observationTimeUtcIso'].dt.month == 4]\n",
    "dfEA5 = dfTWC_A[dfTWC_A['observationTimeUtcIso'].dt.month == 5]\n",
    "dfwet = pd.concat([dfEA3, dfEA4, dfEA5])\n",
    "dfwet"
   ]
  }
 ]
}