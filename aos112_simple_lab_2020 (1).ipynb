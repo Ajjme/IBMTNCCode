{
 "cells": [
  {
   "cell_type": "markdown",
   "metadata": {},
   "source": [
    "# Fast Track Python Intro\n",
    "\n",
    "## Opening data files and plotting maps\n",
    "- NetCDF files are a widely used data format in geosciences \n",
    "- Example here uses monthly-average temperature information from a reanalysis data set\n",
    "\n",
    "## First, import the Python libraries  needed"
   ]
  },
  {
   "cell_type": "code",
   "execution_count": 1,
   "metadata": {
    "ExecuteTime": {
     "end_time": "2018-04-16T17:40:07.628656Z",
     "start_time": "2018-04-16T17:40:06.443865Z"
    }
   },
   "outputs": [],
   "source": [
    "import numpy  # package for scientific computing---arrays, many basic calculations\n",
    "import netCDF4  # for NetCDF data\n",
    "import matplotlib.pyplot as mp  # plotting library, nicknamed \"mp\"\n",
    "import os\n",
    "import conda\n",
    "import datetime as dt\n",
    "import nc_time_axis\n",
    "\n",
    "conda_file_dir = conda.__file__\n",
    "conda_dir = conda_file_dir.split('lib')[0]\n",
    "proj_lib = os.path.join(os.path.join(conda_dir, 'share'), 'proj')\n",
    "os.environ[\"PROJ_LIB\"] = proj_lib\n",
    "\n",
    "from mpl_toolkits import basemap  # for adding maps\n",
    "\n",
    "# to ensure that figures plot within this notebook:\n",
    "%matplotlib inline"
   ]
  },
  {
   "cell_type": "markdown",
   "metadata": {},
   "source": [
    "## Open temperature observations\n",
    "- Setting file folder and name here makes it easier to modify this script later, e.g., reading in another file in a different folder "
   ]
  },
  {
   "cell_type": "code",
   "execution_count": 2,
   "metadata": {
    "ExecuteTime": {
     "end_time": "2018-04-16T17:40:07.778981Z",
     "start_time": "2018-04-16T17:40:07.632288Z"
    }
   },
   "outputs": [
    {
     "name": "stdout",
     "output_type": "stream",
     "text": [
      "/home/datasets/aos112_2020/aos112_simple_lab/tas.mon.mean.1979-2017.nc\r\n"
     ]
    }
   ],
   "source": [
    "file_root = '/home/datasets/aos112_2020/aos112_simple_lab/' # folder containing obs data\n",
    "\n",
    "file_name = 'tas.mon.mean.1979-2017.nc'\n",
    "\n",
    "!ls $file_root$file_name  #Check that the file path is specified correctly"
   ]
  },
  {
   "cell_type": "markdown",
   "metadata": {},
   "source": [
    "## Read variables from the NetCDF file\n",
    "- A typical NetCDF file contains a lot of info, including header (i.e., description of the file) and variables\n",
    "- Each variable has its own header (description) and numeric value(s)\n",
    "- Below, we extract the variable `air`, which is global 2m air temperature during 1979-2018\n",
    "- `air` has dimensions (time x latitude x longitude) and is initially in units of Kelvin"
   ]
  },
  {
   "cell_type": "code",
   "execution_count": 3,
   "metadata": {
    "ExecuteTime": {
     "end_time": "2018-04-16T17:40:08.624665Z",
     "start_time": "2018-04-16T17:40:07.784411Z"
    }
   },
   "outputs": [],
   "source": [
    "ncfile = netCDF4.Dataset(file_root + file_name, 'r', 'NetCDF4')\n",
    "\n",
    "#adding strings, shown above as the first argument into the netCDF4.Dataset function, just concatenates them \n",
    "\n",
    "# Read in variables from the netCDF file\n",
    "time_variable = ncfile['time'] # import the time variable\n",
    "tas_obs_data = ncfile['tas'][:,:,:]\n",
    "lon = ncfile['lon'][:] # import longitude and latitude\n",
    "lat = ncfile['lat'][:]"
   ]
  },
  {
   "cell_type": "markdown",
   "metadata": {},
   "source": [
    "# ==================================================\n",
    "\n",
    "# **User-specified Cells 1**"
   ]
  },
  {
   "cell_type": "markdown",
   "metadata": {},
   "source": [
    "* Specify start and end year of time series"
   ]
  },
  {
   "cell_type": "code",
   "execution_count": 4,
   "metadata": {
    "ExecuteTime": {
     "end_time": "2018-04-16T17:40:08.631123Z",
     "start_time": "2018-04-16T17:40:08.627314Z"
    }
   },
   "outputs": [],
   "source": [
    "start_year = 1990\n",
    "end_year = 2017 # inclusive"
   ]
  },
  {
   "cell_type": "markdown",
   "metadata": {},
   "source": [
    "* Specify the season (or create your own, using a list of months)"
   ]
  },
  {
   "cell_type": "code",
   "execution_count": 5,
   "metadata": {
    "ExecuteTime": {
     "end_time": "2018-04-16T17:40:08.641644Z",
     "start_time": "2018-04-16T17:40:08.634298Z"
    }
   },
   "outputs": [],
   "source": [
    "season='NDJ'\n",
    "months=[11,12,1]\n",
    "\n",
    "# season = 'ANN'\n",
    "# months = [1,2,3,4,5,6,7,8,9,10,11,12]"
   ]
  },
  {
   "cell_type": "markdown",
   "metadata": {},
   "source": [
    "* Pick latitude and longitude ranges for the regional average"
   ]
  },
  {
   "cell_type": "code",
   "execution_count": 6,
   "metadata": {
    "ExecuteTime": {
     "end_time": "2018-04-16T17:40:08.649887Z",
     "start_time": "2018-04-16T17:40:08.645596Z"
    }
   },
   "outputs": [],
   "source": [
    "# Specify latitude (-90~90) and longitude (0~360), start<end\n",
    "# Global has: lat_start = -90  lat_end = 90  lon_start = 0   lon_end =360\n",
    "lat_start = 25\n",
    "lat_end = 50\n",
    "lon_start = 235\n",
    "lon_end = 295\n",
    "\n",
    "# Values for a box containing: \n",
    "#    Contiguous US would be: lat_start = 25  lat_end = 50   lon_start = 235   lon_end = 295\n",
    "#    Contiguous Europe: lat_start = 35  lat_end = 55   lon_start = 0   lon_end = 60\n",
    "#    Southeast Asia: lat_start = -15  lat_end = 30   lon_start = 90   lon_end = 120"
   ]
  },
  {
   "cell_type": "markdown",
   "metadata": {},
   "source": [
    "# =================================================="
   ]
  },
  {
   "cell_type": "markdown",
   "metadata": {},
   "source": [
    "- Convert time-format and focus on the specified period/season/region"
   ]
  },
  {
   "cell_type": "code",
   "execution_count": 7,
   "metadata": {
    "ExecuteTime": {
     "end_time": "2018-04-16T17:40:08.696764Z",
     "start_time": "2018-04-16T17:40:08.653799Z"
    }
   },
   "outputs": [],
   "source": [
    "# Convert time variable in netcdf file to take proper seasonal means\n",
    "time_variable_converted = netCDF4.num2date(time_variable[:], time_variable.units, calendar='standard')\n",
    "\n",
    "# Get indices of proper years and months\n",
    "time_indices = numpy.array([t.year in range(start_year, end_year+1) and \\\n",
    "                            t.month in months for \\\n",
    "                            t in time_variable_converted])\n",
    "\n",
    "# Get indices of regional lat/lon values\n",
    "lon_indices = (lon>=lon_start) & (lon<=lon_end)\n",
    "lat_indices = (lat>=lat_start) & (lat<=lat_end)\n",
    "\n",
    "# Use these indices to subset latitude, longitude, and the temperature data\n",
    "lon_reg=lon[lon_indices]\n",
    "lat_reg=lat[lat_indices]\n",
    "tas_obs_data_seas_reg = tas_obs_data[time_indices,:,:][:,lat_indices,:][:,:,lon_indices]"
   ]
  },
  {
   "cell_type": "markdown",
   "metadata": {},
   "source": [
    "## Calculate the climatology\n",
    "\n",
    "* Take this newly subsetted data and average along the time axis, `axis=0`"
   ]
  },
  {
   "cell_type": "code",
   "execution_count": 8,
   "metadata": {
    "ExecuteTime": {
     "end_time": "2018-04-16T17:40:08.707377Z",
     "start_time": "2018-04-16T17:40:08.700662Z"
    }
   },
   "outputs": [],
   "source": [
    "tas_obs_clim = numpy.mean(tas_obs_data_seas_reg, axis=0) # 0-th axis is time; python index starts at 0"
   ]
  },
  {
   "cell_type": "markdown",
   "metadata": {},
   "source": [
    "## See some of the things inside the netCDF file, if desired\n",
    "- For those who want to see details. This has an example of an 'if' statement: Change True to False at the top to turn on the indented commands below. \n",
    "- You can also comment out lines that you don't want to print by putting a `#` at the start of the line)"
   ]
  },
  {
   "cell_type": "code",
   "execution_count": 9,
   "metadata": {
    "ExecuteTime": {
     "end_time": "2018-04-16T17:40:08.719741Z",
     "start_time": "2018-04-16T17:40:08.710693Z"
    }
   },
   "outputs": [
    {
     "name": "stdout",
     "output_type": "stream",
     "text": [
      "***Header for ncfile; provides information on variables, dimensions etc.***\n",
      "<class 'netCDF4._netCDF4.Dataset'>\n",
      "root group (NETCDF4_CLASSIC data model, file format HDF5):\n",
      "    description: Data from NCEP initialized reanalysis (4x/day).  These are the 0.9950 sigma level values\n",
      "    platform: Model\n",
      "    Conventions: COARDS\n",
      "    title: monthly mean air.sig995 from the NCEP Reanalysis\n",
      "    References: http://www.esrl.noaa.gov/psd/data/gridded/data.ncep.reanalysis.derived.html\n",
      "    dataset_title: NCEP-NCAR Reanalysis 1\n",
      "    NCO: \"4.5.4\"\n",
      "    history: Mon Apr 16 11:29:26 2018: ncks -d time,372,839 tas.mon.mean.1948-2018.nc tas.mon.mean.1979-2017.nc\n",
      "Mon Apr 16 10:35:07 2018: ncrename -v air,tas air.mon.mean.nc tas.mon.mean.1948-2018.nc\n",
      "Thu May  4 20:11:16 2000: ncrcat -d time,0,623 /Datasets/ncep.reanalysis.derived/surface/air.mon.mean.nc air.mon.mean.nc\n",
      "Thu May  4 18:11:50 2000: ncrcat -d time,0,622 /Datasets/ncep.reanalysis.derived/surface/air.mon.mean.nc ./surface/air.mon.mean.nc\n",
      "Mon Jul  5 23:47:18 1999: ncrcat ./air.mon.mean.nc /Datasets/ncep.reanalysis.derived/surface/air.mon.mean.nc /dm/dmwork/nmc.rean.ingest/combinedMMs/surface/air.mon.mean.nc\n",
      "/home/hoop/crdc/cpreanjuke2farm/cpreanjuke2farm Mon Oct 23 21:04:20 1995 from air.sfc.gauss.85.nc\n",
      "created 95/03/13 by Hoop (netCDF2.3)\n",
      "Converted to chunked, deflated non-packed NetCDF4 2014/09\n",
      "    dimensions(sizes): lat(73), lon(144), time(468)\n",
      "    variables(dimensions): float32 lat(lat), float32 lon(lon), float32 tas(time,lat,lon), float64 time(time)\n",
      "    groups: \n",
      "***Header for time_variable***\n",
      "<class 'netCDF4._netCDF4.Variable'>\n",
      "float64 time(time)\n",
      "    long_name: Time\n",
      "    delta_t: 0000-01-00 00:00:00\n",
      "    avg_period: 0000-01-00 00:00:00\n",
      "    prev_avg_period: 0000-00-01 00:00:00\n",
      "    standard_name: time\n",
      "    axis: T\n",
      "    units: hours since 1800-01-01 00:00:0.0\n",
      "    actual_range: [1297320. 1912368.]\n",
      "unlimited dimensions: time\n",
      "current shape = (468,)\n",
      "filling on, default _FillValue of 9.969209968386869e+36 used\n",
      "***First 2 entries of time_variable; the header tells you these are hours since 1/1/1800***\n",
      "[1569072. 1569816.]\n",
      "***First 2 entries of time_variable_converted, now in (year,month,day,hour,min)***\n",
      "***(monthly data, so day=1, hour, min= zero)***\n",
      "[cftime.DatetimeGregorian(1979-01-01 00:00:00)\n",
      " cftime.DatetimeGregorian(1979-02-01 00:00:00)]\n",
      "***Get the year, month, day, etc, of the first entry of time_variable_converted***\n",
      "year:  1979\n",
      "month:  1\n",
      "day:  1\n",
      "***To see the shape of the array: tells you number of entries and that its one-dimensional***\n",
      "(468,)\n",
      "\n",
      "***Differences between a variable and its numeric values***\n",
      "-->(1) This is a variable:\n",
      "<class 'netCDF4._netCDF4.Variable'>\n",
      "float32 lon(lon)\n",
      "    units: degrees_east\n",
      "    long_name: Longitude\n",
      "    actual_range: [  0.  357.5]\n",
      "    standard_name: longitude\n",
      "    axis: X\n",
      "unlimited dimensions: \n",
      "current shape = (144,)\n",
      "filling on, default _FillValue of 9.969209968386869e+36 used\n",
      "-->(2) This is its numeric values:\n",
      "[  0.    2.5   5.    7.5  10.   12.5  15.   17.5  20.   22.5  25.   27.5\n",
      "  30.   32.5  35.   37.5  40.   42.5  45.   47.5  50.   52.5  55.   57.5\n",
      "  60.   62.5  65.   67.5  70.   72.5  75.   77.5  80.   82.5  85.   87.5\n",
      "  90.   92.5  95.   97.5 100.  102.5 105.  107.5 110.  112.5 115.  117.5\n",
      " 120.  122.5 125.  127.5 130.  132.5 135.  137.5 140.  142.5 145.  147.5\n",
      " 150.  152.5 155.  157.5 160.  162.5 165.  167.5 170.  172.5 175.  177.5\n",
      " 180.  182.5 185.  187.5 190.  192.5 195.  197.5 200.  202.5 205.  207.5\n",
      " 210.  212.5 215.  217.5 220.  222.5 225.  227.5 230.  232.5 235.  237.5\n",
      " 240.  242.5 245.  247.5 250.  252.5 255.  257.5 260.  262.5 265.  267.5\n",
      " 270.  272.5 275.  277.5 280.  282.5 285.  287.5 290.  292.5 295.  297.5\n",
      " 300.  302.5 305.  307.5 310.  312.5 315.  317.5 320.  322.5 325.  327.5\n",
      " 330.  332.5 335.  337.5 340.  342.5 345.  347.5 350.  352.5 355.  357.5]\n"
     ]
    }
   ],
   "source": [
    "printstuff = True#False\n",
    "if printstuff: \n",
    "    print('***Header for ncfile; provides information on variables, dimensions etc.***') \n",
    "    # This allows you to see that the time variable is called 'time'\n",
    "    #  and the name of the temperature variable is 'tas'\n",
    "    print(ncfile)\n",
    "    \n",
    "    print('***Header for time_variable***')\n",
    "    print(time_variable)\n",
    "    print('***First 2 entries of time_variable; the header tells you these are hours since 1/1/1800***')\n",
    "    print(time_variable[0:2,])\n",
    "    print('***First 2 entries of time_variable_converted, now in (year,month,day,hour,min)***') \n",
    "    print('***(monthly data, so day=1, hour, min= zero)***')\n",
    "    print(time_variable_converted[0:2,])\n",
    "    print('***Get the year, month, day, etc, of the first entry of time_variable_converted***')\n",
    "    print('year: ',time_variable_converted[0,].year)\n",
    "    print('month: ',time_variable_converted[0,].month)\n",
    "    print('day: ',time_variable_converted[0,].day)\n",
    "    print('***To see the shape of the array: tells you number of entries and that its one-dimensional***')\n",
    "    print(time_variable_converted.shape)\n",
    "    \n",
    "    print(\"\") # add a empty line for readability\n",
    "    print('***Differences between a variable and its numeric values***')\n",
    "    print('-->(1) This is a variable:')\n",
    "    print(ncfile['lon'])\n",
    "    print('-->(2) This is its numeric values:')\n",
    "    print(ncfile['lon'][:])"
   ]
  },
  {
   "cell_type": "markdown",
   "metadata": {},
   "source": [
    "## Plot observed temperature climatology using `mp.contourf()`"
   ]
  },
  {
   "cell_type": "markdown",
   "metadata": {},
   "source": [
    "## Plot a map with info including lat, lon, coastlines, colorbar, etc.\n",
    "\n",
    "- The python package `basemap` can help overlay coastlines and a specific map projection\n",
    "- Basemap is commonly used in the field, e.g., in the IPCC reports"
   ]
  },
  {
   "cell_type": "markdown",
   "metadata": {},
   "source": [
    "- `contourf` means \"filled contour\"\n",
    "- We plot the first figure in the simplest way: without any additional info\n",
    "- Readability is a problem:  **not totally clear where continents are; color bar isn't generated automatically**"
   ]
  },
  {
   "cell_type": "code",
   "execution_count": 10,
   "metadata": {
    "ExecuteTime": {
     "end_time": "2018-04-16T17:40:09.128557Z",
     "start_time": "2018-04-16T17:40:08.723216Z"
    }
   },
   "outputs": [
    {
     "data": {
      "image/png": "[encoded data removed]",
      "text/plain": [
       "<Figure size 432x288 with 2 Axes>"
      ]
     },
     "metadata": {
      "needs_background": "light"
     },
     "output_type": "display_data"
    }
   ],
   "source": [
    "cf = mp.contourf(lon_reg,lat_reg,tas_obs_clim)\n",
    "cbar = mp.colorbar(cf, label='degrees C')"
   ]
  },
  {
   "cell_type": "markdown",
   "metadata": {},
   "source": [
    "# Calculate surface temperature timeseries\n",
    "- Calculate 2m air temperature averaged over a specified region, for a specified period and season\n",
    "- Modified from code above...\n",
    "- Observe the trend"
   ]
  },
  {
   "cell_type": "code",
   "execution_count": 11,
   "metadata": {
    "ExecuteTime": {
     "end_time": "2018-04-16T17:40:10.271716Z",
     "start_time": "2018-04-16T17:40:09.132544Z"
    }
   },
   "outputs": [
    {
     "data": {
      "image/png": "[encoded data removed]",
      "text/plain": [
       "<Figure size 504x432 with 2 Axes>"
      ]
     },
     "metadata": {
      "needs_background": "light"
     },
     "output_type": "display_data"
    }
   ],
   "source": [
    "my_fontsize = 16\n",
    "\n",
    "fig = mp.figure(figsize=(7,6)) # create a figure object\n",
    "ax = fig.add_subplot(111) # add a single axis to that figure, which will become the map\n",
    "\n",
    "# create a map projection for the axis; \n",
    "\n",
    "# map = basemap.Basemap(projection='robin', lon_0=180., resolution='c',ax=ax) # 'robin': Robinson projection\n",
    "map = basemap.Basemap(llcrnrlon=lon_start,\n",
    "                      llcrnrlat=lat_start,\n",
    "                      urcrnrlon=lon_end,\n",
    "                      urcrnrlat=lat_end,\n",
    "                      projection='cyl',\n",
    "                      lon_0=180.,\n",
    "                      resolution='c',\n",
    "                      ax=ax)\n",
    "\n",
    "# draw coastlines\n",
    "map.drawcoastlines()\n",
    "\n",
    "# Draw parallels (latitude lines) and meridians (longitude lines)\n",
    "parallels = numpy.arange(-60.,61.,30.) # 30 degree increment, from -60 to 60 \n",
    "meridians = numpy.arange(0.,361.,60.) # 60 degree increment, from 0 to 360\n",
    "map.drawparallels(parallels, labels=[1,0,0,0], fontsize=my_fontsize)\n",
    "map.drawmeridians(meridians, labels=[0,0,0,1], fontsize=my_fontsize)\n",
    "\n",
    "# Generate 2D lat/lon grid from 1D lat/lon\n",
    "lons,lats = numpy.meshgrid(lon[lon_indices],lat[lat_indices])\n",
    "xi,yi = map(lons, lats)\n",
    "\n",
    "# Draw temperature map\n",
    "contour_levels = numpy.arange(-40,36,5) # show temperature between -40 and 35 (deg-C) with 5-deg increment\n",
    "tas_map = map.contourf(xi,yi,tas_obs_clim,cmap='gist_rainbow_r', levels=contour_levels, extend='both') # use gist_rainbow colormap; try 'gist_rainbow_r'\n",
    "\n",
    "# Append colorbar to the bottom of figure\n",
    "cbar = map.colorbar(tas_map, location='bottom', pad=0.5)\n",
    "cbar.ax.tick_params(labelsize=my_fontsize) # change the fontsize of the colorbar tick labels\n",
    "cbar.set_label(u'\\N{DEGREE SIGN}C', fontsize=my_fontsize) # add a label to the colorbar\n",
    "\n",
    "# Add a title to the figure\n",
    "ax.set_title('Observed historical climatology ('+season+')\\n' + '('+str(start_year)+'-'+str(end_year)+')', fontsize=my_fontsize)\n",
    "\n",
    "fig.tight_layout() # make the figure compact; try comment this line"
   ]
  },
  {
   "cell_type": "markdown",
   "metadata": {},
   "source": [
    "# ==================================================\n",
    "\n",
    "# **User-specified Cells 2**"
   ]
  },
  {
   "cell_type": "markdown",
   "metadata": {},
   "source": [
    "NB: the season, region etc. is specified independently here. To coordinate with the maps above make them the same as in User-specified Cells 1 (or if you're rerunning from the beginning you can comment out the repeated lines).\n",
    " \n",
    "* Specify start and end year of time series"
   ]
  },
  {
   "cell_type": "code",
   "execution_count": 12,
   "metadata": {
    "ExecuteTime": {
     "end_time": "2018-04-16T17:40:10.282663Z",
     "start_time": "2018-04-16T17:40:10.275805Z"
    }
   },
   "outputs": [],
   "source": [
    "start_year = 1990\n",
    "end_year = 2017 # inclusive"
   ]
  },
  {
   "cell_type": "markdown",
   "metadata": {},
   "source": [
    "* Specify the season (or create your own, using a list of months)"
   ]
  },
  {
   "cell_type": "code",
   "execution_count": 13,
   "metadata": {
    "ExecuteTime": {
     "end_time": "2018-04-16T17:40:10.298361Z",
     "start_time": "2018-04-16T17:40:10.293555Z"
    }
   },
   "outputs": [],
   "source": [
    "season='NDJ'\n",
    "months=[11,12,1]\n",
    "\n",
    "#season = 'ANN'\n",
    "#months = [1,2,3,4,5,6,7,8,9,10,11,12]"
   ]
  },
  {
   "cell_type": "markdown",
   "metadata": {},
   "source": [
    "* Pick latitude and longitude ranges for the regional average"
   ]
  },
  {
   "cell_type": "code",
   "execution_count": 14,
   "metadata": {
    "ExecuteTime": {
     "end_time": "2018-04-16T17:40:10.307246Z",
     "start_time": "2018-04-16T17:40:10.301730Z"
    }
   },
   "outputs": [],
   "source": [
    "# Specify latitude (-90~90) and longitude (0~360), start<end\n",
    "# Global has: lat_start = -90  lat_end = 90  lon_start = 0   lon_end =360\n",
    "lat_start = 25\n",
    "lat_end = 50\n",
    "lon_start = 235\n",
    "lon_end = 295\n",
    "\n",
    "# Values for a box containing: \n",
    "#    Contiguous US would be: lat_start = 25  lat_end = 50   lon_start = 235   lon_end = 295\n",
    "#    Contiguous Europe: lat_start = 35  lat_end = 55   lon_start = 0   lon_end = 60\n",
    "#    Southeast Asia: lat_start = -15  lat_end = 30   lon_start = 90   lon_end = 120"
   ]
  },
  {
   "cell_type": "markdown",
   "metadata": {},
   "source": [
    "# =================================================="
   ]
  },
  {
   "cell_type": "markdown",
   "metadata": {},
   "source": [
    "## Use the time/season, lat/lon, and region info to take average temperature over"
   ]
  },
  {
   "cell_type": "code",
   "execution_count": 15,
   "metadata": {
    "ExecuteTime": {
     "end_time": "2018-04-16T17:40:10.531246Z",
     "start_time": "2018-04-16T17:40:10.310516Z"
    }
   },
   "outputs": [],
   "source": [
    "# Adapted from previous cell\n",
    "# Convert time_variable to calendar (year,month,day,hour,minute) format\n",
    "time_variable_converted = netCDF4.num2date(time_variable[:], time_variable.units, calendar='standard')\n",
    "\n",
    "# Subset latitude and longitude\n",
    "lon_indices = (lon>=lon_start) & (lon<=lon_end)\n",
    "lat_indices = (lat>=lat_start) & (lat<=lat_end)\n",
    "#\n",
    "lon_reg=lon[lon_indices]\n",
    "lat_reg=lat[lat_indices]\n",
    "#\n",
    "tas_obs_data_reg = tas_obs_data[:,lat_indices,:][:,:,lon_indices]\n",
    "\n",
    "# Generate latitudinal weights for spatial averaging\n",
    "weights_1d = numpy.cos((numpy.pi/180.)*lat_reg)\n",
    "weights_2d = numpy.tile(weights_1d, reps=(lon_reg.shape[0],1)).T\n",
    "weights_3d = numpy.broadcast_to(weights_2d,\n",
    "                                (time_indices.shape[0],\n",
    "                                 lat_reg.shape[0],\n",
    "                                 lon_reg.shape[0]))\n",
    "\n",
    "# Average over the region\n",
    "tas_timeseries_reg = numpy.sum(tas_obs_data_reg*weights_3d, axis=(1,2))\\\n",
    "                    /numpy.sum(weights_3d, axis=(1,2))\n",
    "\n",
    "#### Calculate the rolling 3-monthly mean timeseries ######\n",
    "\n",
    "# how to implement a rolling mean with numpy:\n",
    "tas_rolling = numpy.convolve(tas_timeseries_reg, \\\n",
    "                             numpy.ones((len(months),))/len(months),mode='same')  #convolve timeseries with equally weighted boxcar\n",
    "tas_rolling[:len(months)] = numpy.nan #throw out the boundary effects of rolling mean operator\n",
    "tas_rolling[-len(months):] = numpy.nan\n",
    "\n",
    "# Sample the desired season\n",
    "time_indices = numpy.array([t.year in range(start_year, end_year+1) and t.month==months[0] \\\n",
    "                            for t in time_variable_converted])\n",
    "tas_timeseries = tas_rolling[time_indices]"
   ]
  },
  {
   "cell_type": "markdown",
   "metadata": {},
   "source": [
    "### Plot regional avg. temperature timeseries"
   ]
  },
  {
   "cell_type": "code",
   "execution_count": 16,
   "metadata": {
    "ExecuteTime": {
     "end_time": "2018-04-16T17:40:10.893541Z",
     "start_time": "2018-04-16T17:40:10.534709Z"
    }
   },
   "outputs": [
    {
     "data": {
      "image/png": "[encoded data removed]",
      "text/plain": [
       "<Figure size 576x288 with 1 Axes>"
      ]
     },
     "metadata": {
      "needs_background": "light"
     },
     "output_type": "display_data"
    }
   ],
   "source": [
    "\n",
    "c_d_time = [nc_time_axis.CalendarDateTime(item, \"360_day\") \\\n",
    "            for item in time_variable_converted[time_indices]] # make datetime object compatible with matplotlib\n",
    "\n",
    "my_fontsize = 16\n",
    "\n",
    "fig = mp.figure(figsize=(8,4))\n",
    "ax = fig.add_subplot(111)\n",
    "\n",
    "ax.plot(c_d_time,tas_timeseries,marker='o',linestyle='-')\n",
    "ax.grid(color='0.5', linestyle='-')\n",
    "ax.tick_params(labelsize=my_fontsize)\n",
    "ax.set_xlabel('Time', fontsize=my_fontsize)\n",
    "ax.set_ylabel('Temperature ('+u'\\N{DEGREE SIGN}'+'C)', fontsize=my_fontsize)\n",
    "ax.set_title(season + ' surface temperature averaged over\\n(lat,lon) in ['+str(lat_start)+','+\\\n",
    "             str(lat_end)+'] x ['+str(lon_start)+','+str(lon_end)+']', \\\n",
    "             fontsize=my_fontsize)\n",
    "fig.tight_layout()"
   ]
  },
  {
   "cell_type": "code",
   "execution_count": null,
   "metadata": {},
   "outputs": [],
   "source": []
  },
  {
   "cell_type": "code",
   "execution_count": null,
   "metadata": {},
   "outputs": [],
   "source": []
  },
  {
   "cell_type": "code",
   "execution_count": null,
   "metadata": {},
   "outputs": [],
   "source": []
  },
  {
   "cell_type": "code",
   "execution_count": null,
   "metadata": {},
   "outputs": [],
   "source": []
  }
 ],
 "metadata": {
  "kernelspec": {
   "display_name": "aos112",
   "language": "python",
   "name": "aos112"
  },
  "language_info": {
   "codemirror_mode": {
    "name": "ipython",
    "version": 3
   },
   "file_extension": ".py",
   "mimetype": "text/x-python",
   "name": "python",
   "nbconvert_exporter": "python",
   "pygments_lexer": "ipython3",
   "version": "3.7.7"
  }
 },
 "nbformat": 4,
 "nbformat_minor": 2
}
